{
 "cells": [
  {
   "cell_type": "code",
   "execution_count": 1,
   "metadata": {},
   "outputs": [
    {
     "data": {
      "text/plain": [
       "'3.5.0 (v3.5.0:374f501f4567, Sep 13 2015, 02:16:59) [MSC v.1900 32 bit (Intel)]'"
      ]
     },
     "execution_count": 1,
     "metadata": {},
     "output_type": "execute_result"
    }
   ],
   "source": [
    "import sys\n",
    "sys.executable\n",
    "sys.version"
   ]
  },
  {
   "cell_type": "code",
   "execution_count": 2,
   "metadata": {
    "collapsed": true
   },
   "outputs": [],
   "source": [
    "import findspark\n",
    "findspark.init()\n",
    "from pyspark.sql import SparkSession\n",
    "from pyspark.sql.functions import explode, monotonically_increasing_id"
   ]
  },
  {
   "cell_type": "markdown",
   "metadata": {},
   "source": [
    "# Trump's scandals\n",
    "## Introduction to big data technologies - Final Project\n",
    "\n",
    "We decided to use New York Times API article\\_search (https://developer.nytimes.com/) that enables to look through all the recent articles published and ask for a simple query.\n",
    "We will do a study case with the key word \"Trump\"."
   ]
  },
  {
   "cell_type": "code",
   "execution_count": 6,
   "metadata": {
    "collapsed": true
   },
   "outputs": [],
   "source": [
    "# IMPORT PART\n",
    "import numpy as np\n",
    "import json\n",
    "import datetime\n",
    "import matplotlib.pyplot as plt\n",
    "import pandas as pd\n"
   ]
  },
  {
   "cell_type": "code",
   "execution_count": 2,
   "metadata": {},
   "outputs": [
    {
     "data": {
      "text/plain": [
       "'0.23.4'"
      ]
     },
     "execution_count": 2,
     "metadata": {},
     "output_type": "execute_result"
    }
   ],
   "source": [
    "pd.__version__"
   ]
  },
  {
   "cell_type": "markdown",
   "metadata": {},
   "source": [
    "# 1. Collect data\n",
    "#### 1.1 Do requests to the API and save requests as text file\n",
    "Usage of an API is somehow limited. That's why we used it once to gather 1000 articles containing the word \"Trump\" and stored it in a text file.\n",
    "This API authorizes to download data about only 2000 articles. There is also a restriction on the rate of request, that's why there is a time.sleep(0.5) in the code.\n",
    "We decided not to collect all the available data about articles, but only the most important features in our opinion. These's 6 features per article we're gonna present later."
   ]
  },
  {
   "cell_type": "code",
   "execution_count": 7,
   "metadata": {},
   "outputs": [
    {
     "name": "stdout",
     "output_type": "stream",
     "text": [
      "url : https://api.nytimes.com/svc/search/v2/articlesearch.json?api-key=1d71d1495aca41478aa03bbd4a66087b&q=Trump&begin_date=20000101&end_date=20181201&fl=\"print_page,keywords,pub_date,_id,word_count,score\"\n"
     ]
    }
   ],
   "source": [
    "# User information\n",
    "apiKey = \"1d71d1495aca41478aa03bbd4a66087b\"\n",
    "# Enter the word you're looking for\n",
    "query = \"Trump\"\n",
    " \n",
    "# Build the URL for NYT api\n",
    "url = \"https://api.nytimes.com/svc/search/v2/articlesearch.json\"\n",
    "url += '?' + 'api-key='+ apiKey + '&q=' + query \n",
    "url += \"&begin_date=20000101\"\n",
    "url += \"&end_date=20181201\"\n",
    "url += \"&fl=\\\"print_page,keywords,pub_date,_id,word_count,score\\\"\"\n",
    "print(\"url :\",url)"
   ]
  },
  {
   "cell_type": "markdown",
   "metadata": {},
   "source": [
    "````\n",
    "\n",
    "# Do the request : i.e. Download data !\n",
    "#  Don't use it too much, we have a limited number of requests\n",
    "# # Limitations of the API : 1000 call per day. 1 call per second.\n",
    "# \n",
    "# # do N requests.\n",
    "import time\n",
    "import calendar\n",
    "\n",
    "apiKey = \"1d71d1495aca41478aa03bbd4a66087b\"\n",
    "# Enter the word you're looking for\n",
    "query = \"Trump\"\n",
    "year_start = 2015\n",
    "year_end = 2018 \n",
    "nb_of_pages = 1\n",
    "\n",
    "# Build the URL for NYT api\n",
    "url = \"https://api.nytimes.com/svc/search/v2/articlesearch.json\"\n",
    "url += '?' + 'api-key='+ apiKey + '&q=' + query \n",
    "#url += \"&begin_date=20000101\"\n",
    "#url += \"&end_date=20181201\"\n",
    "url += \"&fl=\\\"print_page,keywords,pub_date,_id,word_count,score\\\"\"\n",
    "print(\"url :\",url)\n",
    "\n",
    "#nb_of_articles = 10 * nb_of_pages\n",
    "with open(\"data_10000_Trump_6features.txt\",\"w\" ) as f:\n",
    "  for year in range(year_start,year_end+1):\n",
    "    for month in range(1,13):\n",
    "      for i in range(nb_of_pages):\n",
    "        endDay = calendar.monthrange(year,month)[1]\n",
    "        dateS = \"\";\n",
    "        dateE = \"\";\n",
    "        if month < 10:\n",
    "          dateS += str(year) + \"0\" + str(month) + \"01\"\n",
    "          dateE += str(year) + \"0\" + str(month) + str(endDay)\n",
    "        if month >= 10:\n",
    "          dateS += str(year) + \"\" + str(month) + \"01\"\n",
    "          dateE += str(year) + \"\" + str(month) + str(endDay)\n",
    "\n",
    "\n",
    "        url0 = url + '&page='+str(i)\n",
    "        url0 += \"&begin_date=\" + dateS\n",
    "        url0 += \"&end_date=\"+ dateE\n",
    "        time.sleep(1)\n",
    "        r = requests.get(url0)        \n",
    "        f.write(json.dumps(r.json())) \n",
    "        f.write('\\n')\n",
    "\n",
    "````\n"
   ]
  },
  {
   "cell_type": "markdown",
   "metadata": {},
   "source": [
    "#### 1.2 Read the text file\n",
    "The text file contains 201 lines. Each line is a json containing informations about 10 articles. Each line is (by definition) separated from the next one by a '\\n'."
   ]
  },
  {
   "cell_type": "code",
   "execution_count": 8,
   "metadata": {
    "collapsed": true
   },
   "outputs": [],
   "source": [
    "# Define spark session\n",
    "spark = SparkSession \\\n",
    "    .builder \\\n",
    "    .appName(\"Test Spark on IntelliJ\") \\\n",
    "    .master(\"local\") \\\n",
    "    .getOrCreate()\n",
    "\n",
    "spark.sparkContext.setLogLevel(\"ERROR\")"
   ]
  },
  {
   "cell_type": "code",
   "execution_count": 39,
   "metadata": {},
   "outputs": [
    {
     "name": "stdout",
     "output_type": "stream",
     "text": [
      "root\n",
      " |-- _id: string (nullable = true)\n",
      " |-- pub_date: string (nullable = true)\n",
      " |-- score: double (nullable = true)\n",
      " |-- word_count: long (nullable = true)\n",
      " |-- keyword_category: string (nullable = true)\n",
      " |-- keyword: string (nullable = true)\n",
      "\n"
     ]
    }
   ],
   "source": [
    "def load_articles(spark, file_name):\n",
    "\n",
    "    df = spark.read.json(file_name)\n",
    "    if df.select(\"status\") == \"ERROR\":\n",
    "        return \n",
    "    \n",
    "    df = df.select(\"response.docs\")\n",
    "\n",
    "    articles = explode(df.docs)\n",
    "    df = df.select(articles.alias(\"article\"))\n",
    "    df = df.select(\"article.*\")\n",
    "\n",
    "\n",
    "    # Retrieve name and value columns from keywords\n",
    "    keywords = explode(df.keywords)\n",
    "    df_kw = df.select(df[\"keywords\"].getItem(0).alias(\"kw\"))\n",
    "    df_kw = df_kw.select(\"kw.*\")\n",
    "\n",
    "    df_names = df_kw.select(df_kw[\"name\"].alias(\"keyword_category\"))\n",
    "    df_names = df_names.withColumn(\"id_name\", monotonically_increasing_id())\n",
    "\n",
    "    df_values = df_kw.select(df_kw[\"value\"].alias(\"keyword\"))\n",
    "    df_values = df_values.withColumn(\"id_value\", monotonically_increasing_id())\n",
    "\n",
    "    # Join df with name and value\n",
    "    df = df.withColumn(\"id\", monotonically_increasing_id())\n",
    "    df = df.join(df_names, df.id == df_names.id_name)\n",
    "    df = df.join(df_values, df.id == df_values.id_value)\n",
    "\n",
    "    # Drop processing columns\n",
    "    df = df.drop(\"keywords\")\n",
    "    df = df.drop(\"id\")\n",
    "    df = df.drop(\"id_name\")\n",
    "    df = df.drop(\"id_value\")\n",
    "    return df\n",
    "\n",
    "\n",
    "\n",
    "file_name = \"C:\\\\Users\\\\maxim\\\\Desktop\\\\BigData\\\\Articles_Trump-1800.txt\"\n",
    "spark_df = load_articles(spark, file_name)\n",
    "spark_df.printSchema()"
   ]
  },
  {
   "cell_type": "markdown",
   "metadata": {},
   "source": [
    "#### 1.3 Store result in a dataframe\n",
    "\n",
    "Now that we know what information are available. We select some and stor the most important ones in a dataframe.\n",
    "\n",
    "We decided to keep :\n",
    "* score.............: a variable that mesures the relevance of the article\n",
    "* print\\_page..: to see if the article is in the first pages or not\n",
    "* keywords....: to try to get a bit of a context of the most popular topics\n",
    "* \\_id..................: can be useful if we want to change indeces\n",
    "* word\\_count.: information about the length of the article, which is linked with its relevance.\n",
    "\n",
    "Precision : this dataset has no NaN value !"
   ]
  },
  {
   "cell_type": "code",
   "execution_count": 58,
   "metadata": {},
   "outputs": [
    {
     "name": "stdout",
     "output_type": "stream",
     "text": [
      "Number of samples : 7873\n"
     ]
    },
    {
     "data": {
      "text/html": [
       "<div>\n",
       "<style scoped>\n",
       "    .dataframe tbody tr th:only-of-type {\n",
       "        vertical-align: middle;\n",
       "    }\n",
       "\n",
       "    .dataframe tbody tr th {\n",
       "        vertical-align: top;\n",
       "    }\n",
       "\n",
       "    .dataframe thead th {\n",
       "        text-align: right;\n",
       "    }\n",
       "</style>\n",
       "<table border=\"1\" class=\"dataframe\">\n",
       "  <thead>\n",
       "    <tr style=\"text-align: right;\">\n",
       "      <th></th>\n",
       "      <th>id</th>\n",
       "      <th>date</th>\n",
       "      <th>score</th>\n",
       "      <th>word_count</th>\n",
       "      <th>keyword_category</th>\n",
       "      <th>keyword</th>\n",
       "    </tr>\n",
       "  </thead>\n",
       "  <tbody>\n",
       "    <tr>\n",
       "      <th>0</th>\n",
       "      <td>54c66f4e38f0d86e745517a6</td>\n",
       "      <td>2015-01-26T11:44:13Z</td>\n",
       "      <td>3.484666</td>\n",
       "      <td>182</td>\n",
       "      <td>persons</td>\n",
       "      <td>Trump, Donald J</td>\n",
       "    </tr>\n",
       "    <tr>\n",
       "      <th>2</th>\n",
       "      <td>54aabb4438f0d80bc95942b6</td>\n",
       "      <td>2015-01-05T11:21:17Z</td>\n",
       "      <td>1.049711</td>\n",
       "      <td>355</td>\n",
       "      <td>persons</td>\n",
       "      <td>Cosby, Bill</td>\n",
       "    </tr>\n",
       "    <tr>\n",
       "      <th>3</th>\n",
       "      <td>54c96c8238f0d8372df4b8c0</td>\n",
       "      <td>2015-01-29T00:00:00Z</td>\n",
       "      <td>0.831144</td>\n",
       "      <td>332</td>\n",
       "      <td>subject</td>\n",
       "      <td>Bridge (Card Game)</td>\n",
       "    </tr>\n",
       "    <tr>\n",
       "      <th>4</th>\n",
       "      <td>54b993fb38f0d83735b5a845</td>\n",
       "      <td>2015-01-17T00:00:00Z</td>\n",
       "      <td>0.771642</td>\n",
       "      <td>371</td>\n",
       "      <td>subject</td>\n",
       "      <td>Bridge (Card Game)</td>\n",
       "    </tr>\n",
       "    <tr>\n",
       "      <th>5</th>\n",
       "      <td>54b0585538f0d8367c84168d</td>\n",
       "      <td>2015-01-10T00:00:00Z</td>\n",
       "      <td>0.712592</td>\n",
       "      <td>350</td>\n",
       "      <td>subject</td>\n",
       "      <td>Bridge (Card Game)</td>\n",
       "    </tr>\n",
       "  </tbody>\n",
       "</table>\n",
       "</div>"
      ],
      "text/plain": [
       "                         id                  date     score  word_count  \\\n",
       "0  54c66f4e38f0d86e745517a6  2015-01-26T11:44:13Z  3.484666         182   \n",
       "2  54aabb4438f0d80bc95942b6  2015-01-05T11:21:17Z  1.049711         355   \n",
       "3  54c96c8238f0d8372df4b8c0  2015-01-29T00:00:00Z  0.831144         332   \n",
       "4  54b993fb38f0d83735b5a845  2015-01-17T00:00:00Z  0.771642         371   \n",
       "5  54b0585538f0d8367c84168d  2015-01-10T00:00:00Z  0.712592         350   \n",
       "\n",
       "  keyword_category             keyword  \n",
       "0          persons     Trump, Donald J  \n",
       "2          persons         Cosby, Bill  \n",
       "3          subject  Bridge (Card Game)  \n",
       "4          subject  Bridge (Card Game)  \n",
       "5          subject  Bridge (Card Game)  "
      ]
     },
     "execution_count": 58,
     "metadata": {},
     "output_type": "execute_result"
    }
   ],
   "source": [
    "#df = pd.DataFrame(data = articles)\n",
    "df = spark_df.toPandas()\n",
    "df = df.rename(columns= {'print_page' : 'page',\n",
    "                         '_id' : 'id',\n",
    "                         'pub_date' : 'date'})\n",
    "print(\"Number of samples :\",df.shape[0])\n",
    "df = df.dropna(how='any', axis=0) \n",
    "df.head()\n"
   ]
  },
  {
   "cell_type": "markdown",
   "metadata": {},
   "source": [
    "# 2. Global informations about this dataset\n",
    "\n",
    "The API give us no control on the articles it gives. It mostly gives recent and relevant article, that's what we're gonna show in this part.\n",
    "\n",
    "#### 2.1. Publication date : is it approximatively uniform on the whole year ?"
   ]
  },
  {
   "cell_type": "code",
   "execution_count": 59,
   "metadata": {},
   "outputs": [
    {
     "data": {
      "image/png": "[encoded data removed]",
      "text/plain": [
       "<Figure size 720x432 with 1 Axes>"
      ]
     },
     "metadata": {
      "needs_background": "light"
     },
     "output_type": "display_data"
    }
   ],
   "source": [
    "# Let's build an histogram of publication dates\n",
    "\n",
    "\n",
    "def try_parsing_date(text):\n",
    "    for fmt in ('%Y-%m-%dT%H:%M:%S+0000', '%Y-%m-%dT%H:%M:%SZ'):\n",
    "        try:\n",
    "            return datetime.datetime.strptime(text, fmt)\n",
    "        except ValueError:\n",
    "            pass\n",
    "    raise ValueError('no valid date format found')\n",
    "\n",
    "\n",
    "def date_to_day_of_the_year(date):\n",
    "    if type(date)!=type(' '):\n",
    "        print(\"Wrong type, str expected.\")\n",
    "        return None\n",
    "    datetime_object = try_parsing_date(date)\n",
    "    return datetime_object.timetuple().tm_yday\n",
    "\n",
    "dates = df.dropna(subset=['date'])['date'].apply(date_to_day_of_the_year).values\n",
    "\n",
    "plt.figure(figsize=(10,6))\n",
    "plt.hist(dates,rwidth=0.6,bins = int(365/7),range=(0,365))\n",
    "plt.grid(True)\n",
    "plt.xlabel(\"Days in the year\")\n",
    "plt.ylabel(\"Number of articles\")\n",
    "plt.title(\"Publication date\")\n",
    "plt.show()"
   ]
  },
  {
   "cell_type": "markdown",
   "metadata": {},
   "source": [
    "We suppose that there are more than $2010$ articles with the word \"Trump\" between 01/01/2018 and 01/12/2018. We have to be careful with this."
   ]
  },
  {
   "cell_type": "markdown",
   "metadata": {},
   "source": [
    "#### 2.2. Score : what is the distribution of this score ?\n",
    "\n",
    "We want to find minimum and maximum of a score, and espacially know what is a big score and how rare it is."
   ]
  },
  {
   "cell_type": "code",
   "execution_count": 60,
   "metadata": {},
   "outputs": [
    {
     "name": "stdout",
     "output_type": "stream",
     "text": [
      "The score is varying between 0.042898808 and 49.75955.\n",
      "Only the top 0.0% has a score bigger than 70.\n"
     ]
    },
    {
     "data": {
      "image/png": "[encoded data removed]",
      "text/plain": [
       "<Figure size 720x432 with 1 Axes>"
      ]
     },
     "metadata": {
      "needs_background": "light"
     },
     "output_type": "display_data"
    }
   ],
   "source": [
    "print(\"The score is varying between\",df['score'].min(),\"and \"+str(df['score'].max())+\".\")\n",
    "print(\"Only the top \"+str(round(100*df['score'][df['score']>70].size/df['score'].size,2))+\"% has a score bigger than 70.\")\n",
    "\n",
    "\n",
    "plt.figure(figsize=(10,6))\n",
    "plt.hist(df['score'],bins=40,rwidth=0.6)\n",
    "plt.xlabel(\"Score\")\n",
    "plt.ylabel(\"Number of articles\")\n",
    "plt.title(\"Distribution of articles score\")\n",
    "plt.grid(True)\n",
    "plt.show()"
   ]
  },
  {
   "cell_type": "markdown",
   "metadata": {},
   "source": [
    "We can say that articles with a score bigger than $70$ is relevant and quite rare.\n",
    "\n",
    "#### 2.3 Word count : how big are the articles ?"
   ]
  },
  {
   "cell_type": "code",
   "execution_count": 61,
   "metadata": {},
   "outputs": [
    {
     "name": "stdout",
     "output_type": "stream",
     "text": [
      "The median length of an article is 809.0 words\n",
      "Only the top 2.31% has more than 2000 words.\n"
     ]
    },
    {
     "data": {
      "image/png": "[encoded data removed]",
      "text/plain": [
       "<Figure size 720x432 with 1 Axes>"
      ]
     },
     "metadata": {
      "needs_background": "light"
     },
     "output_type": "display_data"
    }
   ],
   "source": [
    "print(\"The median length of an article is\",df['word_count'].median(),\"words\")\n",
    "print(\"Only the top \"+str(round(100*df['word_count'][df['word_count']>2000].size/df['word_count'].size,2))+\"% has more than 2000 words.\")\n",
    "\n",
    "plt.figure(figsize=(10,6))\n",
    "plt.hist(df['word_count'],bins=40,rwidth=0.6)\n",
    "plt.xlabel(\"Words count\")\n",
    "plt.ylabel(\"Number of articles\")\n",
    "plt.title(\"Distribution of articles word count\")\n",
    "plt.grid(True)\n",
    "plt.show()"
   ]
  },
  {
   "cell_type": "markdown",
   "metadata": {},
   "source": [
    "#### 2.4 Keywords : let's make a dictionnary with occurences"
   ]
  },
  {
   "cell_type": "code",
   "execution_count": 62,
   "metadata": {
    "collapsed": true
   },
   "outputs": [],
   "source": [
    "keywords_df = pd.DataFrame(df['keyword'], columns=['keyword'])\n",
    "keywords_df['category'] = pd.DataFrame(df['keyword_category'])\n",
    "\n",
    "def rank_keyword(category,size=10):\n",
    "    X = np.array(keywords_df).T\n",
    "    X = X[0][X[1]==category]\n",
    "    unique, counts = np.unique(X, return_counts=True)\n",
    "    return pd.DataFrame(np.concatenate((unique.reshape((-1,1)),counts.reshape((-1,1))),axis=1), columns=['keyword','occurences']).sort_values(['occurences'],ascending=False).head(size)\n",
    "\n",
    "categories = list(keywords_df['category'].unique())\n",
    "rankings   = {}\n",
    "for this_category in categories:\n",
    "    rankings[this_category] = rank_keyword(this_category)"
   ]
  },
  {
   "cell_type": "code",
   "execution_count": 46,
   "metadata": {},
   "outputs": [
    {
     "name": "stdout",
     "output_type": "stream",
     "text": [
      "Ranking of keywords in the category : persons\n"
     ]
    },
    {
     "data": {
      "text/html": [
       "<div>\n",
       "<style scoped>\n",
       "    .dataframe tbody tr th:only-of-type {\n",
       "        vertical-align: middle;\n",
       "    }\n",
       "\n",
       "    .dataframe tbody tr th {\n",
       "        vertical-align: top;\n",
       "    }\n",
       "\n",
       "    .dataframe thead th {\n",
       "        text-align: right;\n",
       "    }\n",
       "</style>\n",
       "<table border=\"1\" class=\"dataframe\">\n",
       "  <thead>\n",
       "    <tr style=\"text-align: right;\">\n",
       "      <th></th>\n",
       "      <th>keyword</th>\n",
       "      <th>occurences</th>\n",
       "    </tr>\n",
       "  </thead>\n",
       "  <tbody>\n",
       "    <tr>\n",
       "      <th>354</th>\n",
       "      <td>Trump, Donald J</td>\n",
       "      <td>1481</td>\n",
       "    </tr>\n",
       "    <tr>\n",
       "      <th>68</th>\n",
       "      <td>Bush, Jeb</td>\n",
       "      <td>129</td>\n",
       "    </tr>\n",
       "    <tr>\n",
       "      <th>82</th>\n",
       "      <td>Clinton, Hillary Rodham</td>\n",
       "      <td>125</td>\n",
       "    </tr>\n",
       "    <tr>\n",
       "      <th>106</th>\n",
       "      <td>Cruz, Ted</td>\n",
       "      <td>97</td>\n",
       "    </tr>\n",
       "    <tr>\n",
       "      <th>73</th>\n",
       "      <td>Carson, Benjamin S</td>\n",
       "      <td>68</td>\n",
       "    </tr>\n",
       "    <tr>\n",
       "      <th>79</th>\n",
       "      <td>Christie, Christopher J</td>\n",
       "      <td>39</td>\n",
       "    </tr>\n",
       "    <tr>\n",
       "      <th>267</th>\n",
       "      <td>Obama, Barack</td>\n",
       "      <td>30</td>\n",
       "    </tr>\n",
       "    <tr>\n",
       "      <th>36</th>\n",
       "      <td>Biden, Joseph R Jr</td>\n",
       "      <td>22</td>\n",
       "    </tr>\n",
       "    <tr>\n",
       "      <th>358</th>\n",
       "      <td>Trump, Ivanka</td>\n",
       "      <td>18</td>\n",
       "    </tr>\n",
       "    <tr>\n",
       "      <th>195</th>\n",
       "      <td>Kelly, Megyn</td>\n",
       "      <td>17</td>\n",
       "    </tr>\n",
       "  </tbody>\n",
       "</table>\n",
       "</div>"
      ],
      "text/plain": [
       "                     keyword occurences\n",
       "354          Trump, Donald J       1481\n",
       "68                 Bush, Jeb        129\n",
       "82   Clinton, Hillary Rodham        125\n",
       "106                Cruz, Ted         97\n",
       "73        Carson, Benjamin S         68\n",
       "79   Christie, Christopher J         39\n",
       "267            Obama, Barack         30\n",
       "36        Biden, Joseph R Jr         22\n",
       "358            Trump, Ivanka         18\n",
       "195             Kelly, Megyn         17"
      ]
     },
     "execution_count": 46,
     "metadata": {},
     "output_type": "execute_result"
    }
   ],
   "source": [
    "ind = 0\n",
    "this_category = categories[ind]\n",
    "print(\"Ranking of keywords in the category :\",this_category)\n",
    "rankings[this_category]"
   ]
  },
  {
   "cell_type": "code",
   "execution_count": 63,
   "metadata": {},
   "outputs": [
    {
     "name": "stdout",
     "output_type": "stream",
     "text": [
      "['persons', 'subject', 'glocations', 'organizations', 'type_of_material', 'creative_works', 'unknown']\n",
      "Ranking of keywords in the category : organizations\n"
     ]
    },
    {
     "data": {
      "text/html": [
       "<div>\n",
       "<style scoped>\n",
       "    .dataframe tbody tr th:only-of-type {\n",
       "        vertical-align: middle;\n",
       "    }\n",
       "\n",
       "    .dataframe tbody tr th {\n",
       "        vertical-align: top;\n",
       "    }\n",
       "\n",
       "    .dataframe thead th {\n",
       "        text-align: right;\n",
       "    }\n",
       "</style>\n",
       "<table border=\"1\" class=\"dataframe\">\n",
       "  <thead>\n",
       "    <tr style=\"text-align: right;\">\n",
       "      <th></th>\n",
       "      <th>keyword</th>\n",
       "      <th>occurences</th>\n",
       "    </tr>\n",
       "  </thead>\n",
       "  <tbody>\n",
       "    <tr>\n",
       "      <th>83</th>\n",
       "      <td>Republican Party</td>\n",
       "      <td>27</td>\n",
       "    </tr>\n",
       "    <tr>\n",
       "      <th>97</th>\n",
       "      <td>Trump Organization</td>\n",
       "      <td>10</td>\n",
       "    </tr>\n",
       "    <tr>\n",
       "      <th>32</th>\n",
       "      <td>Federal Bureau of Investigation</td>\n",
       "      <td>9</td>\n",
       "    </tr>\n",
       "    <tr>\n",
       "      <th>69</th>\n",
       "      <td>North Atlantic Treaty Organization</td>\n",
       "      <td>7</td>\n",
       "    </tr>\n",
       "    <tr>\n",
       "      <th>101</th>\n",
       "      <td>Twitter</td>\n",
       "      <td>7</td>\n",
       "    </tr>\n",
       "    <tr>\n",
       "      <th>90</th>\n",
       "      <td>Supreme Court (US)</td>\n",
       "      <td>7</td>\n",
       "    </tr>\n",
       "    <tr>\n",
       "      <th>34</th>\n",
       "      <td>Federal Reserve System</td>\n",
       "      <td>6</td>\n",
       "    </tr>\n",
       "    <tr>\n",
       "      <th>105</th>\n",
       "      <td>United Nations</td>\n",
       "      <td>5</td>\n",
       "    </tr>\n",
       "    <tr>\n",
       "      <th>99</th>\n",
       "      <td>Trump Tower (Manhattan, NY)</td>\n",
       "      <td>5</td>\n",
       "    </tr>\n",
       "    <tr>\n",
       "      <th>86</th>\n",
       "      <td>Roman Catholic Church</td>\n",
       "      <td>5</td>\n",
       "    </tr>\n",
       "  </tbody>\n",
       "</table>\n",
       "</div>"
      ],
      "text/plain": [
       "                                keyword occurences\n",
       "83                     Republican Party         27\n",
       "97                   Trump Organization         10\n",
       "32      Federal Bureau of Investigation          9\n",
       "69   North Atlantic Treaty Organization          7\n",
       "101                             Twitter          7\n",
       "90                   Supreme Court (US)          7\n",
       "34               Federal Reserve System          6\n",
       "105                      United Nations          5\n",
       "99          Trump Tower (Manhattan, NY)          5\n",
       "86                Roman Catholic Church          5"
      ]
     },
     "execution_count": 63,
     "metadata": {},
     "output_type": "execute_result"
    }
   ],
   "source": [
    "ind+=1\n",
    "print(categories)\n",
    "this_category = categories[ind]\n",
    "print(\"Ranking of keywords in the category :\",this_category)\n",
    "rankings[this_category]"
   ]
  },
  {
   "cell_type": "code",
   "execution_count": 64,
   "metadata": {},
   "outputs": [
    {
     "name": "stdout",
     "output_type": "stream",
     "text": [
      "Ranking of keywords in the category : type_of_material\n"
     ]
    },
    {
     "data": {
      "text/html": [
       "<div>\n",
       "<style scoped>\n",
       "    .dataframe tbody tr th:only-of-type {\n",
       "        vertical-align: middle;\n",
       "    }\n",
       "\n",
       "    .dataframe tbody tr th {\n",
       "        vertical-align: top;\n",
       "    }\n",
       "\n",
       "    .dataframe thead th {\n",
       "        text-align: right;\n",
       "    }\n",
       "</style>\n",
       "<table border=\"1\" class=\"dataframe\">\n",
       "  <thead>\n",
       "    <tr style=\"text-align: right;\">\n",
       "      <th></th>\n",
       "      <th>keyword</th>\n",
       "      <th>occurences</th>\n",
       "    </tr>\n",
       "  </thead>\n",
       "  <tbody>\n",
       "    <tr>\n",
       "      <th>0</th>\n",
       "      <td>News</td>\n",
       "      <td>18</td>\n",
       "    </tr>\n",
       "  </tbody>\n",
       "</table>\n",
       "</div>"
      ],
      "text/plain": [
       "  keyword occurences\n",
       "0    News         18"
      ]
     },
     "execution_count": 64,
     "metadata": {},
     "output_type": "execute_result"
    }
   ],
   "source": [
    "ind+=1\n",
    "this_category = categories[ind]\n",
    "print(\"Ranking of keywords in the category :\",this_category)\n",
    "rankings[this_category]"
   ]
  },
  {
   "cell_type": "code",
   "execution_count": 62,
   "metadata": {},
   "outputs": [
    {
     "name": "stdout",
     "output_type": "stream",
     "text": [
      "Ranking of keywords in the category : organizations\n"
     ]
    },
    {
     "data": {
      "text/html": [
       "<div>\n",
       "<style scoped>\n",
       "    .dataframe tbody tr th:only-of-type {\n",
       "        vertical-align: middle;\n",
       "    }\n",
       "\n",
       "    .dataframe tbody tr th {\n",
       "        vertical-align: top;\n",
       "    }\n",
       "\n",
       "    .dataframe thead th {\n",
       "        text-align: right;\n",
       "    }\n",
       "</style>\n",
       "<table border=\"1\" class=\"dataframe\">\n",
       "  <thead>\n",
       "    <tr style=\"text-align: right;\">\n",
       "      <th></th>\n",
       "      <th>keyword</th>\n",
       "      <th>occurences</th>\n",
       "    </tr>\n",
       "  </thead>\n",
       "  <tbody>\n",
       "    <tr>\n",
       "      <th>1</th>\n",
       "      <td>Democratic Party</td>\n",
       "      <td>2</td>\n",
       "    </tr>\n",
       "    <tr>\n",
       "      <th>2</th>\n",
       "      <td>Federal Reserve System</td>\n",
       "      <td>2</td>\n",
       "    </tr>\n",
       "    <tr>\n",
       "      <th>9</th>\n",
       "      <td>Trump Organization</td>\n",
       "      <td>2</td>\n",
       "    </tr>\n",
       "    <tr>\n",
       "      <th>0</th>\n",
       "      <td>Central Intelligence Agency</td>\n",
       "      <td>1</td>\n",
       "    </tr>\n",
       "    <tr>\n",
       "      <th>3</th>\n",
       "      <td>General Motors</td>\n",
       "      <td>1</td>\n",
       "    </tr>\n",
       "    <tr>\n",
       "      <th>4</th>\n",
       "      <td>Google Inc</td>\n",
       "      <td>1</td>\n",
       "    </tr>\n",
       "    <tr>\n",
       "      <th>5</th>\n",
       "      <td>Group of Twenty</td>\n",
       "      <td>1</td>\n",
       "    </tr>\n",
       "    <tr>\n",
       "      <th>6</th>\n",
       "      <td>Harley-Davidson Inc</td>\n",
       "      <td>1</td>\n",
       "    </tr>\n",
       "    <tr>\n",
       "      <th>7</th>\n",
       "      <td>North Atlantic Treaty Organization</td>\n",
       "      <td>1</td>\n",
       "    </tr>\n",
       "    <tr>\n",
       "      <th>8</th>\n",
       "      <td>Supreme Court (US)</td>\n",
       "      <td>1</td>\n",
       "    </tr>\n",
       "  </tbody>\n",
       "</table>\n",
       "</div>"
      ],
      "text/plain": [
       "                              keyword occurences\n",
       "1                    Democratic Party          2\n",
       "2              Federal Reserve System          2\n",
       "9                  Trump Organization          2\n",
       "0         Central Intelligence Agency          1\n",
       "3                      General Motors          1\n",
       "4                          Google Inc          1\n",
       "5                     Group of Twenty          1\n",
       "6                 Harley-Davidson Inc          1\n",
       "7  North Atlantic Treaty Organization          1\n",
       "8                  Supreme Court (US)          1"
      ]
     },
     "execution_count": 62,
     "metadata": {},
     "output_type": "execute_result"
    }
   ],
   "source": [
    "ind+=1\n",
    "this_category = categories[ind]\n",
    "print(\"Ranking of keywords in the category :\",this_category)\n",
    "rankings[this_category]"
   ]
  },
  {
   "cell_type": "markdown",
   "metadata": {},
   "source": [
    "# 3. Cross features and draw conclusions"
   ]
  },
  {
   "cell_type": "code",
   "execution_count": 65,
   "metadata": {
    "collapsed": true
   },
   "outputs": [],
   "source": [
    "def articles_where_keyword_is(keyword):\n",
    "    return df.where(df['keyword']==keyword).dropna()"
   ]
  },
  {
   "cell_type": "code",
   "execution_count": 66,
   "metadata": {
    "collapsed": true
   },
   "outputs": [],
   "source": [
    "def word_count_comparison(subset,keyword):\n",
    "    # word count comparison\n",
    "    plt.figure(figsize=(10,6))\n",
    "    plt.hist(df['word_count'],bins=100,rwidth=1,density=True,color='navy')\n",
    "    plt.hist(subset['word_count'],density=subset.shape[0],rwidth=0.3,color='darkorange')\n",
    "    plt.legend(['total data',keyword])\n",
    "    # for length in china['word_count']:\n",
    "    #     plt.vlines(length,ymin=0,ymax=400,color='red')\n",
    "    plt.xlabel(\"Words count\")\n",
    "    plt.ylabel(\"Frequency\")\n",
    "    plt.title(\"Distribution of articles word count\")\n",
    "    plt.grid(True)\n",
    "    plt.show()\n",
    "\n",
    "    subset_mean_word_count = int(subset['word_count'].mean())\n",
    "    global_mean_word_count = int(df['word_count'].mean())\n",
    "    if subset_mean_word_count>global_mean_word_count:\n",
    "        comparison = \"greater\"\n",
    "    else:\n",
    "        comparison = \"lower\"\n",
    "    print(\"* ARTICLE LENGTH\")\n",
    "    print(\"The mean number of words in the article about \"+keyword+\" is\",subset_mean_word_count,\"which is \"+comparison+\" than the global average (\"+str(global_mean_word_count)+\").\\n\")\n",
    "    pass\n",
    "\n",
    "def score_comparison(subset,keyword):\n",
    "    plt.figure(figsize=(10,6))\n",
    "    plt.hist(df['score'],bins=100,rwidth=1,density=True,color='navy')\n",
    "    plt.hist(subset['score'],density=True,bins = subset.shape[0],rwidth=0.3,color='darkorange')\n",
    "    plt.legend(['total data',keyword])\n",
    "    plt.xlabel(\"Score\")\n",
    "    plt.ylabel(\"Frequency\")\n",
    "    plt.title(\"Distribution of articles score\")\n",
    "    plt.grid(True)\n",
    "    plt.show()\n",
    "\n",
    "    subset_mean_score = int(subset['score'].mean())\n",
    "    global_mean_score = int(df['score'].mean())\n",
    "    if subset_mean_score>global_mean_score:\n",
    "        comparison = \"greater\"\n",
    "    else:\n",
    "        comparison = \"lower\"\n",
    "    print(\"* ARTICLE RELEVANCE\")\n",
    "    print(\"The mean score in the article about \"+keyword+\" is\",subset_mean_score,\"which is \"+comparison+\" than the global average (\"+str(global_mean_score)+\").\\n\")\n",
    "    pass\n",
    "\n",
    "def publication_date_comparison(subset,keyword):\n",
    "    dates = df.dropna(subset=['date'])['date'].apply(date_to_day_of_the_year).values\n",
    "    subset_dates = subset.dropna(subset=['date'])['date'].apply(date_to_day_of_the_year).values\n",
    "    plt.figure(figsize=(10,6))\n",
    "    plt.hist(dates,rwidth=1,bins = int(365/7),range=(0,365),color='navy',density=True)\n",
    "    plt.hist(subset_dates,rwidth=0.6,bins = int(365/7),range=(0,365),color='darkorange',density=True)\n",
    "    plt.grid(True)\n",
    "    plt.xlabel(\"Days in the year\")\n",
    "    plt.ylabel(\"Frequency\")\n",
    "    plt.legend(['total data',keyword])\n",
    "    plt.title(\"Publication date\")\n",
    "    plt.show()\n",
    "\n",
    "    hist, bin_edges = np.histogram(subset_dates)\n",
    "    peak_day_of_the_year = int(bin_edges[np.argmax(hist)])\n",
    "    peak_date= (datetime.datetime(2018, 1, 1) + datetime.timedelta(peak_day_of_the_year - 1)).strftime(\"%d/%m/%Y\")\n",
    "    print(\"* PUBLICATION DATE\")\n",
    "    print(\"It seems that there was a news about Trump and \"+keyword+\" on the\",peak_date+\".\")\n",
    "    pass\n",
    "\n",
    "\n",
    "def what_about_this_keyword(keyword):\n",
    "    subset = articles_where_keyword_is(keyword)\n",
    "\n",
    "    print(\"Here is a study case about the articles mentioning Trump whose keyword is :\",keyword,\"\\n\")\n",
    "    word_count_comparison(subset,keyword)\n",
    "    score_comparison(subset,keyword)\n",
    "    publication_date_comparison(subset,keyword)\n",
    "    pass\n"
   ]
  },
  {
   "cell_type": "code",
   "execution_count": 65,
   "metadata": {},
   "outputs": [
    {
     "name": "stdout",
     "output_type": "stream",
     "text": [
      "Here is a study case about the articles mentioning Trump whose keyword is : Russian Interference in 2016 US Elections and Ties to Trump Associates \n",
      "\n"
     ]
    },
    {
     "data": {
      "image/png": "[encoded data removed]",
      "text/plain": [
       "<matplotlib.figure.Figure at 0x116a526d8>"
      ]
     },
     "metadata": {
      "needs_background": "light"
     },
     "output_type": "display_data"
    },
    {
     "name": "stdout",
     "output_type": "stream",
     "text": [
      "* ARTICLE LENGTH\n",
      "The mean number of words in the article about Russian Interference in 2016 US Elections and Ties to Trump Associates is 962 which is lower than the global average (977).\n",
      "\n"
     ]
    },
    {
     "data": {
      "image/png": "[encoded data removed]",
      "text/plain": [
       "<matplotlib.figure.Figure at 0x11eeeb208>"
      ]
     },
     "metadata": {
      "needs_background": "light"
     },
     "output_type": "display_data"
    },
    {
     "name": "stdout",
     "output_type": "stream",
     "text": [
      "* ARTICLE RELEVANCE\n",
      "The mean score in the article about Russian Interference in 2016 US Elections and Ties to Trump Associates is 65 which is lower than the global average (66).\n",
      "\n"
     ]
    },
    {
     "data": {
      "image/png": "[encoded data removed]",
      "text/plain": [
       "<matplotlib.figure.Figure at 0x11f75ed30>"
      ]
     },
     "metadata": {
      "needs_background": "light"
     },
     "output_type": "display_data"
    },
    {
     "name": "stdout",
     "output_type": "stream",
     "text": [
      "* PUBLICATION DATE\n",
      "It seems that there was a news about Trump and Russian Interference in 2016 US Elections and Ties to Trump Associates on the 16/11/2018.\n"
     ]
    }
   ],
   "source": [
    "what_about_this_keyword(keyword = 'Russian Interference in 2016 US Elections and Ties to Trump Associates')"
   ]
  },
  {
   "cell_type": "code",
   "execution_count": null,
   "metadata": {
    "collapsed": true
   },
   "outputs": [],
   "source": []
  }
 ],
 "metadata": {
  "kernelspec": {
   "display_name": "Python 3.5",
   "language": "python",
   "name": "python35"
  },
  "language_info": {
   "codemirror_mode": {
    "name": "ipython",
    "version": 3
   },
   "file_extension": ".py",
   "mimetype": "text/x-python",
   "name": "python",
   "nbconvert_exporter": "python",
   "pygments_lexer": "ipython3",
   "version": "3.5.0"
  }
 },
 "nbformat": 4,
 "nbformat_minor": 2
}
